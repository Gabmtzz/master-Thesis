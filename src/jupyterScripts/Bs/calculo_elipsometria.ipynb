{
 "cells": [
  {
   "cell_type": "markdown",
   "id": "43257fa4",
   "metadata": {},
   "source": [
    "# Coeficientes de reflexion Al y vidrio"
   ]
  },
  {
   "cell_type": "code",
   "execution_count": 28,
   "id": "e8b0e6cb",
   "metadata": {},
   "outputs": [],
   "source": [
    "program reflexion\n",
    "implicit none\n",
    "integer,parameter::Ntot=740\n",
    "real, dimension(740)::lambda,nAl,kAl\n",
    "complex, dimension(740)::NcAl, NVid, NAire\n",
    "complex :: NV\n",
    "real,parameter::nVidrio=1.52, kVidrio=3e-07\n",
    "integer::n\n",
    "real, parameter::theta=70.0\n",
    "!====================================================================================\n",
    "open(UNIT=13, FILE='DatosCNAl.txt')\n",
    "\n",
    "do n=1,Ntot\n",
    " read(13,*) lambda(n), nAl(n), kAl(n)\n",
    "end do\n",
    "close(13)\n",
    "\n",
    "! crear indice de refraccion complejo de Aluminio\n",
    "call complx(nAl,kAl,Ncal)\n",
    "!indice complejo del vidrio\n",
    "do n=1,Ntot\n",
    " NVid(n)=CMPLX(nVidrio, kVidrio)\n",
    "end do\n",
    "!indice complejo del aire\n",
    "do n=1,Ntot\n",
    " NAire(n)=CMPLX(1.0, 0.0)\n",
    "end do\n",
    "\n",
    "\n",
    "end program reflexion\n",
    "!==========================================================================================================\n",
    "! crear un arreglo  complejo\n",
    "\n",
    "subroutine complx (reArr,ImArr,compArr)\n",
    "implicit none\n",
    "integer,parameter::Ntot=740\n",
    "real,dimension(740)::reArr,ImArr\n",
    "complex,dimension(740)::compArr\n",
    "\n",
    "compArr=CMPLX(reArr, ImArr)\n",
    "end subroutine\n",
    "\n",
    "!+++++++++++++++++++++++++++++++++++++++++++++++++++++++++++++++++++++++++++++++++++++++++++++++++++++++++++\n",
    "! separa un arreglo  complejo\n",
    "\n",
    "subroutine ReImag (compArr,reArr,ImArr)\n",
    "implicit none\n",
    "integer,parameter::Ntot=740\n",
    "real,dimension(740)::reArr,ImArr\n",
    "complex,dimension(740)::compArr\n",
    "\n",
    "reArr=REAL(compArr)\n",
    "ImArr=AIMAG(compArr)\n",
    "end subroutine\n",
    "\n"
   ]
  },
  {
   "cell_type": "code",
   "execution_count": null,
   "id": "4b197d46",
   "metadata": {},
   "outputs": [],
   "source": []
  }
 ],
 "metadata": {
  "kernelspec": {
   "display_name": "Fortran",
   "language": "Fortran",
   "name": "fortran_spec"
  },
  "language_info": {
   "file_extension": "f90",
   "mimetype": "text/plain",
   "name": "fortran"
  }
 },
 "nbformat": 4,
 "nbformat_minor": 5
}
