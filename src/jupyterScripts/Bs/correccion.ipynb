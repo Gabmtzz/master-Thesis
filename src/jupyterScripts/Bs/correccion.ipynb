{
 "cells": [
  {
   "cell_type": "code",
   "execution_count": 50,
   "id": "a210c566",
   "metadata": {},
   "outputs": [],
   "source": [
    "import numpy as np\n",
    "import matplotlib.pyplot as plt\n",
    "#=======================================================================================================\n",
    "# entrada de datos\n",
    "datDelta=np.loadtxt(\"beamsDelta.txt\",float)\n",
    "datPsi=np.loadtxt(\"beamsPsi.txt\",float)\n",
    "datnAl=np.loadtxt(\"nAl.txt\",float)\n",
    "datkAl=np.loadtxt(\"kAl.txt\",float)\n",
    "dat45Psi=np.loadtxt(\"datpsi45.txt\")\n",
    "dat45Delta=np.loadtxt(\"datdelta45.txt\")"
   ]
  },
  {
   "cell_type": "code",
   "execution_count": 42,
   "id": "d8a24261",
   "metadata": {},
   "outputs": [
    {
     "data": {
      "text/plain": [
       "740"
      ]
     },
     "execution_count": 42,
     "metadata": {},
     "output_type": "execute_result"
    }
   ],
   "source": [
    "longOnda=np.around(datPsi[:740,0])\n",
    "psi=datPsi[:740,1]\n",
    "delta=datDelta[:740,1]\n",
    "KAl=datnAl[35:,1]\n",
    "nAl=datkAl[35:,1]\n",
    "psi.size"
   ]
  },
  {
   "cell_type": "code",
   "execution_count": 43,
   "id": "8bfc4dde",
   "metadata": {},
   "outputs": [],
   "source": [
    "datosCalc=np.stack((longOnda,psi,delta,nAl,KAl), axis=-1)"
   ]
  },
  {
   "cell_type": "code",
   "execution_count": 45,
   "id": "0d0e4b05",
   "metadata": {},
   "outputs": [
    {
     "data": {
      "text/plain": [
       "[<matplotlib.lines.Line2D at 0x7f8f9d0a7d00>]"
      ]
     },
     "execution_count": 45,
     "metadata": {},
     "output_type": "execute_result"
    },
    {
     "data": {
      "image/png": "[encoded data removed]",
      "text/plain": [
       "<Figure size 432x288 with 1 Axes>"
      ]
     },
     "metadata": {
      "needs_background": "light"
     },
     "output_type": "display_data"
    }
   ],
   "source": [
    "plt.plot(datosCalc[:,0],datosCalc[:,4])"
   ]
  },
  {
   "cell_type": "code",
   "execution_count": 46,
   "id": "94a9d2ac",
   "metadata": {},
   "outputs": [],
   "source": [
    "np.savetxt(\"DatosBS.txt\",datosCalc)"
   ]
  },
  {
   "cell_type": "code",
   "execution_count": 48,
   "id": "eef9d5bc",
   "metadata": {},
   "outputs": [],
   "source": [
    "datCNAl=np.stack((longOnda,nAl,KAl), axis=-1)\n",
    "datbeamSplitrer=np.stack((longOnda,psi,delta), axis=-1)\n",
    "np.savetxt(\"DatosCNAl.txt\",datCNAl)\n",
    "np.savetxt(\"DatosBeamSplitter.txt\",datbeamSplitrer)"
   ]
  },
  {
   "cell_type": "code",
   "execution_count": 65,
   "id": "5d0aa321",
   "metadata": {},
   "outputs": [],
   "source": [
    "longonda1=np.around(dat45Psi[188:388,0])\n",
    "psi45=dat45Psi[188:388,1]\n",
    "delta45=dat45Delta[188:388,1]\n",
    "datBS45=np.stack((longonda1,psi45,delta45), axis=-1)"
   ]
  },
  {
   "cell_type": "code",
   "execution_count": 69,
   "id": "c9d143be",
   "metadata": {},
   "outputs": [
    {
     "data": {
      "text/plain": [
       "[<matplotlib.lines.Line2D at 0x7f8f9c383760>]"
      ]
     },
     "execution_count": 69,
     "metadata": {},
     "output_type": "execute_result"
    },
    {
     "data": {
      "image/png": "[encoded data removed]",
      "text/plain": [
       "<Figure size 432x288 with 1 Axes>"
      ]
     },
     "metadata": {
      "needs_background": "light"
     },
     "output_type": "display_data"
    }
   ],
   "source": [
    "plt.plot(datBS45[:,0],datBS45[:,1])"
   ]
  },
  {
   "cell_type": "code",
   "execution_count": 71,
   "id": "ec6526e9",
   "metadata": {},
   "outputs": [],
   "source": [
    "np.savetxt(\"DatosBS45.txt\",datBS45)"
   ]
  },
  {
   "cell_type": "code",
   "execution_count": null,
   "id": "54b262ba",
   "metadata": {},
   "outputs": [],
   "source": []
  }
 ],
 "metadata": {
  "kernelspec": {
   "display_name": "Python 3",
   "language": "python",
   "name": "python3"
  },
  "language_info": {
   "codemirror_mode": {
    "name": "ipython",
    "version": 3
   },
   "file_extension": ".py",
   "mimetype": "text/x-python",
   "name": "python",
   "nbconvert_exporter": "python",
   "pygments_lexer": "ipython3",
   "version": "3.8.8"
  }
 },
 "nbformat": 4,
 "nbformat_minor": 5
}
