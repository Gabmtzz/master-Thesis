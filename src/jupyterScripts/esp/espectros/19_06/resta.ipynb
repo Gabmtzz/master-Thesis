{
 "cells": [
  {
   "cell_type": "markdown",
   "metadata": {},
   "source": [
    "# importar datos"
   ]
  },
  {
   "cell_type": "code",
   "execution_count": 1,
   "metadata": {},
   "outputs": [],
   "source": [
    "import numpy as np\n",
    "import matplotlib.pyplot as plt\n",
    "#===========================================================================================\n",
    "dat2f0=np.loadtxt(\"ESPECTRO1_2F.txt\",float,usecols=(0,1))\n",
    "dat2f1=np.loadtxt(\"ESPECTRO1_2F_2.txt\",float,usecols=(0,1))\n",
    "#==============================================================================================\n",
    "datf0=np.loadtxt(\"ESPECTRO1_F_2.txt\",float,usecols=(0,1))\n",
    "datf1=np.loadtxt(\"ESPECTRO1_F_3.txt\",float,usecols=(0,1))"
   ]
  },
  {
   "cell_type": "markdown",
   "metadata": {},
   "source": [
    "# crear areglos"
   ]
  },
  {
   "cell_type": "code",
   "execution_count": 2,
   "metadata": {},
   "outputs": [],
   "source": [
    "londa=dat2f0[10:,0]\n",
    "sen2f0=dat2f0[10:,1]\n",
    "sen2f1=dat2f1[10:,1]\n",
    "#=================================\n",
    "londa2=datf0[:,0]\n",
    "senf0=datf0[:,1]\n",
    "senf1=datf1[:,1]"
   ]
  },
  {
   "cell_type": "markdown",
   "metadata": {},
   "source": [
    "# promedio"
   ]
  },
  {
   "cell_type": "code",
   "execution_count": 21,
   "metadata": {},
   "outputs": [],
   "source": [
    "prom2f=(sen2f0+sen2f1)/2\n",
    "promf=(senf0+senf1)/2"
   ]
  },
  {
   "cell_type": "markdown",
   "metadata": {},
   "source": [
    "# Aplicando campo "
   ]
  },
  {
   "cell_type": "code",
   "execution_count": 23,
   "metadata": {},
   "outputs": [],
   "source": [
    "#===========================================================================================\n",
    "dat2f0M=np.loadtxt(\"ESPECTRO1_2F_200mT.txt\",float,usecols=(0,1))\n",
    "dat2f1M=np.loadtxt(\"ESPECTRO1_2F_200mT.txt\",float,usecols=(0,1))\n",
    "#==============================================================================================\n",
    "datf0M=np.loadtxt(\"ESPECTRO1_F_2_200mT.txt\",float,usecols=(0,1))\n",
    "datf1M=np.loadtxt(\"ESPECTRO1_F_2_200mT.txt\",float,usecols=(0,1))\n",
    "\n",
    "sen2f0M=dat2f0M[10:,1]\n",
    "sen2f1M=dat2f1M[10:,1]\n",
    "#=================================\n",
    "senf0M=datf0M[:,1]\n",
    "senf1M=datf1M[:,1]\n",
    "\n",
    "prom2fM=(sen2f0M+sen2f1M)/2\n",
    "promfM=(senf0M+senf1M)/2"
   ]
  },
  {
   "cell_type": "code",
   "execution_count": 25,
   "metadata": {},
   "outputs": [],
   "source": [
    "dif2f=prom2fM-prom2f"
   ]
  },
  {
   "cell_type": "code",
   "execution_count": 31,
   "metadata": {},
   "outputs": [],
   "source": [
    "datosK=np.stack((londa, promf, promfM, prom2f, prom2fM), axis=-1)"
   ]
  },
  {
   "cell_type": "markdown",
   "metadata": {},
   "source": [
    "# datos BS"
   ]
  },
  {
   "cell_type": "code",
   "execution_count": 32,
   "metadata": {},
   "outputs": [],
   "source": [
    "# abrir archivo con datos del psi y delta\n",
    "np.savetxt(\"datKerr.txt\",datosK)"
   ]
  },
  {
   "cell_type": "code",
   "execution_count": 33,
   "metadata": {},
   "outputs": [],
   "source": [
    "datBS=np.loadtxt(\"DatosBS45.txt\",float,usecols=(0,1,2))"
   ]
  },
  {
   "cell_type": "code",
   "execution_count": 38,
   "metadata": {},
   "outputs": [],
   "source": [
    "Apsi=datBS[8:,1]\n",
    "Adelt=datBS[8:,2]"
   ]
  },
  {
   "cell_type": "code",
   "execution_count": 49,
   "metadata": {},
   "outputs": [],
   "source": [
    "b1=np.stack((promf,prom2f),axis=-1)\n",
    "b2=np.stack((promfM,prom2fM),axis=-1)"
   ]
  },
  {
   "cell_type": "code",
   "execution_count": 40,
   "metadata": {},
   "outputs": [],
   "source": [
    "from scipy import special\n",
    "\n",
    "#parametros de la medicion\n",
    "\n",
    "fase=2.405\n",
    "\n",
    "j0=special.jv(0,fase)\n",
    "j1=special.jv(1,fase)\n",
    "j2=special.jv(2,fase)\n",
    "#solucion de sistema de ecuaciones usnado numpy\n",
    "def sol(psi,delta, i1):\n",
    "    psirad=(psi*np.pi)/180; deltarad=(delta*np.pi)/180\n",
    "    a11=4*j1*np.tan(psirad)*np.sin(deltarad); a12= -4*j1*np.tan(psirad)*np.cos(deltarad)\n",
    "    a21=-4*j2*np.tan(psirad)*np.cos(deltarad); a22=-4*j2*np.tan(psirad)*np.sin(deltarad)\n",
    "    a=np.array([[a11, a12],[a21 ,a22]])\n",
    "    sol=np.linalg.solve(a,i1)\n",
    "    angulo=sol[0]; elip=sol[1]\n",
    "    return angulo, elip\n",
    "#creacion de arreglos con la informacion\n",
    "def arr(b):\n",
    "    ang=np.zeros(Apsi.size); elip=np.zeros(Apsi.size)\n",
    "    for i in range(Apsi.size):\n",
    "        ang[i], elip[i] = sol(Apsi[i],Adelt[i],b[i,:])\n",
    "    return ang, elip"
   ]
  },
  {
   "cell_type": "code",
   "execution_count": 41,
   "metadata": {},
   "outputs": [],
   "source": [
    "thetab1, elipb1= arr(b1)"
   ]
  },
  {
   "cell_type": "code",
   "execution_count": 43,
   "metadata": {},
   "outputs": [],
   "source": [
    "thetab2, elipb2= arr(b2)"
   ]
  },
  {
   "cell_type": "code",
   "execution_count": 45,
   "metadata": {},
   "outputs": [],
   "source": [
    "diftheta=thetab2-thetab1\n",
    "difelip=elipb2-elipb1"
   ]
  },
  {
   "cell_type": "code",
   "execution_count": 48,
   "metadata": {},
   "outputs": [],
   "source": [
    "#guardado de la informacion\n",
    "datosKcor=np.stack((londa, thetab1, elipb1, thetab2, elipb2), axis=-1)\n",
    "np.savetxt(\"datKerrCorr.txt\",datosKcor)"
   ]
  }
 ],
 "metadata": {
  "kernelspec": {
   "display_name": "Python 3",
   "language": "python",
   "name": "python3"
  },
  "language_info": {
   "codemirror_mode": {
    "name": "ipython",
    "version": 3
   },
   "file_extension": ".py",
   "mimetype": "text/x-python",
   "name": "python",
   "nbconvert_exporter": "python",
   "pygments_lexer": "ipython3",
   "version": "3.8.8"
  }
 },
 "nbformat": 4,
 "nbformat_minor": 4
}
