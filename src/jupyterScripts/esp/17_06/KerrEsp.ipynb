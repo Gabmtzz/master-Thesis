{
 "cells": [
  {
   "cell_type": "markdown",
   "metadata": {},
   "source": [
    "# Importar datos"
   ]
  },
  {
   "cell_type": "code",
   "execution_count": 2,
   "metadata": {},
   "outputs": [],
   "source": [
    "import numpy as np\n",
    "import matplotlib.pyplot as plt\n",
    "\n",
    "dat2f0=np.loadtxt(\"pruebaEspectro_600_1.txt\",float,usecols=(0,1))\n",
    "\n",
    "datf0=np.loadtxt(\"pruebaEspectro_600_1_f.txt\",float,usecols=(0,1))\n",
    "\n",
    "#=====================================================================\n",
    "dat2f1=np.loadtxt(\"pruebaEspectro_600_1_60mT.txt\",float,usecols=(0,1))\n",
    "\n",
    "datf1=np.loadtxt(\"pruebaEspectro_600_1_f_60mT.txt\",float,usecols=(0,1))"
   ]
  },
  {
   "cell_type": "markdown",
   "metadata": {},
   "source": [
    "# Definir arreglos"
   ]
  },
  {
   "cell_type": "code",
   "execution_count": 3,
   "metadata": {},
   "outputs": [],
   "source": [
    "lamda= dat2f0[:,0]\n",
    "#+++++++++++++++++++++=sin campo\n",
    "f2SC=dat2f0[:,1]\n",
    "fSC=datf0[:,1]\n",
    "#+++++++++++++++++++++=con campo\n",
    "f2C=dat2f1[:,1]\n",
    "fC=datf1[:,1]\n"
   ]
  },
  {
   "cell_type": "markdown",
   "metadata": {},
   "source": [
    "# Resta"
   ]
  },
  {
   "cell_type": "code",
   "execution_count": 4,
   "metadata": {},
   "outputs": [],
   "source": [
    "Rf=fC-fSC\n",
    "R2f=f2C-f2SC\n"
   ]
  },
  {
   "cell_type": "code",
   "execution_count": 18,
   "metadata": {},
   "outputs": [
    {
     "data": {
      "text/plain": [
       "[<matplotlib.lines.Line2D at 0x7fed91587760>]"
      ]
     },
     "execution_count": 18,
     "metadata": {},
     "output_type": "execute_result"
    },
    {
     "data": {
      "image/png": "[encoded data removed]",
      "text/plain": [
       "<Figure size 432x288 with 1 Axes>"
      ]
     },
     "metadata": {
      "needs_background": "light"
     },
     "output_type": "display_data"
    }
   ],
   "source": [
    "plt.plot(lamda,Rf)"
   ]
  },
  {
   "cell_type": "markdown",
   "metadata": {},
   "source": [
    "# Datos de beamsplitter"
   ]
  },
  {
   "cell_type": "code",
   "execution_count": 5,
   "metadata": {},
   "outputs": [],
   "source": [
    "datBS=np.loadtxt('03052021.BS_RBN.12h 26mn 13s.txt',float)\n",
    "lamda2=datBS[:,0]\n",
    "psi=datBS[:,1]\n",
    "theta=datBS[:,2]\n",
    "EnBs=np.around(1239.4/np.around(lamda2),2)\n",
    "datosBS=np.stack((EnBs,psi,theta), axis=-1)"
   ]
  },
  {
   "cell_type": "code",
   "execution_count": 6,
   "metadata": {},
   "outputs": [
    {
     "data": {
      "text/plain": [
       "array([[  1.   ,   3.189, 304.551],\n",
       "       [  1.02 ,   2.099, 301.018],\n",
       "       [  1.04 ,   1.397, 326.217],\n",
       "       [  1.06 ,   1.23 , 353.323],\n",
       "       [  1.08 ,   1.545,  25.496],\n",
       "       [  1.1  ,   2.047,  37.881],\n",
       "       [  1.12 ,   2.53 ,  41.065],\n",
       "       [  1.14 ,   3.346,  39.01 ],\n",
       "       [  1.16 ,   3.777,  32.198],\n",
       "       [  1.18 ,   4.46 ,  25.121],\n",
       "       [  1.2  ,   5.175,  18.151],\n",
       "       [  1.22 ,   6.154,   9.962],\n",
       "       [  1.24 ,   7.654,   3.146],\n",
       "       [  1.26 ,   8.385, 357.438],\n",
       "       [  1.28 ,  10.002, 351.86 ],\n",
       "       [  1.3  ,  10.84 , 349.325],\n",
       "       [  1.32 ,  11.594, 347.116],\n",
       "       [  1.34 ,  11.316, 345.447],\n",
       "       [  1.36 ,  10.563, 342.421],\n",
       "       [  1.38 ,  10.236, 342.65 ],\n",
       "       [  1.4  ,   8.891, 340.808],\n",
       "       [  1.42 ,   7.893, 339.398],\n",
       "       [  1.44 ,   6.308, 336.403],\n",
       "       [  1.46 ,   4.709, 332.98 ],\n",
       "       [  1.48 ,   3.02 , 327.214],\n",
       "       [  1.5  ,   1.327, 313.861],\n",
       "       [  1.52 ,   0.526, 206.136],\n",
       "       [  1.54 ,   2.202, 159.096],\n",
       "       [  1.56 ,   3.97 , 151.401],\n",
       "       [  1.58 ,   5.759, 146.591],\n",
       "       [  1.6  ,   7.567, 142.484],\n",
       "       [  1.62 ,   9.342, 138.803],\n",
       "       [  1.64 ,  10.987, 135.231],\n",
       "       [  1.66 ,  12.652, 131.797],\n",
       "       [  1.68 ,  14.243, 128.384],\n",
       "       [  1.7  ,  15.73 , 125.301],\n",
       "       [  1.72 ,  17.24 , 122.213],\n",
       "       [  1.74 ,  18.58 , 119.295],\n",
       "       [  1.76 ,  19.861, 116.585],\n",
       "       [  1.78 ,  21.003, 113.865],\n",
       "       [  1.8  ,  22.116, 111.379],\n",
       "       [  1.82 ,  23.184, 108.894],\n",
       "       [  1.84 ,  24.168, 106.772],\n",
       "       [  1.86 ,  25.076, 104.657],\n",
       "       [  1.88 ,  26.017, 102.71 ],\n",
       "       [  1.9  ,  26.825, 100.917],\n",
       "       [  1.92 ,  27.558,  99.26 ],\n",
       "       [  1.94 ,  28.285,  97.757],\n",
       "       [  1.96 ,  28.975,  96.402],\n",
       "       [  1.98 ,  29.628,  95.257],\n",
       "       [  2.   ,  30.233,  94.215],\n",
       "       [  2.02 ,  30.823,  93.408],\n",
       "       [  2.04 ,  31.401,  92.661],\n",
       "       [  2.06 ,  31.907,  92.148],\n",
       "       [  2.08 ,  32.381,  91.918],\n",
       "       [  2.1  ,  32.939,  91.791],\n",
       "       [  2.12 ,  33.457,  91.889],\n",
       "       [  2.14 ,  33.961,  92.23 ],\n",
       "       [  2.16 ,  34.456,  92.79 ],\n",
       "       [  2.18 ,  34.904,  93.658],\n",
       "       [  2.2  ,  35.347,  94.856],\n",
       "       [  2.22 ,  35.756,  96.455],\n",
       "       [  2.24 ,  36.126,  98.542],\n",
       "       [  2.26 ,  36.497, 101.184],\n",
       "       [  2.28 ,  36.86 , 104.586],\n",
       "       [  2.3  ,  37.091, 108.768],\n",
       "       [  2.32 ,  37.256, 114.017],\n",
       "       [  2.34 ,  37.328, 120.518],\n",
       "       [  2.36 ,  37.317, 128.385],\n",
       "       [  2.38 ,  37.128, 137.856],\n",
       "       [  2.4  ,  36.919, 148.808],\n",
       "       [  2.42 ,  36.671, 161.087],\n",
       "       [  2.44 ,  36.398, 174.432],\n",
       "       [  2.46 ,  36.176, 188.021],\n",
       "       [  2.48 ,  35.964, 201.026],\n",
       "       [  2.5  ,  35.387, 212.902],\n",
       "       [  2.52 ,  34.817, 222.714],\n",
       "       [  2.54 ,  33.858, 230.397],\n",
       "       [  2.56 ,  32.847, 235.942],\n",
       "       [  2.58 ,  31.668, 239.069],\n",
       "       [  2.6  ,  30.224, 240.227],\n",
       "       [  2.62 ,  28.715, 239.288],\n",
       "       [  2.64 ,  27.006, 236.011],\n",
       "       [  2.66 ,  25.277, 230.979],\n",
       "       [  2.68 ,  23.354, 223.01 ],\n",
       "       [  2.7  ,  21.68 , 212.613],\n",
       "       [  2.72 ,  20.282, 199.654],\n",
       "       [  2.74 ,  19.499, 183.996],\n",
       "       [  2.76 ,  19.415, 167.876],\n",
       "       [  2.78 ,  20.116, 151.214],\n",
       "       [  2.8  ,  21.49 , 136.271],\n",
       "       [  2.82 ,  23.227, 123.382],\n",
       "       [  2.84 ,  25.09 , 112.579],\n",
       "       [  2.86 ,  26.936, 103.442],\n",
       "       [  2.88 ,  28.643,  95.861],\n",
       "       [  2.9  ,  30.168,  89.514],\n",
       "       [  2.92 ,  31.452,  84.339],\n",
       "       [  2.94 ,  32.56 ,  80.174],\n",
       "       [  2.96 ,  33.464,  77.062],\n",
       "       [  2.98 ,  34.214,  74.943],\n",
       "       [  3.   ,  34.842,  74.104],\n",
       "       [  3.02 ,  35.323,  74.845],\n",
       "       [  3.04 ,  35.633,  77.594],\n",
       "       [  3.06 ,  35.439,  83.706],\n",
       "       [  3.08 ,  34.057,  95.402],\n",
       "       [  3.1  ,  29.714, 117.34 ],\n",
       "       [  3.12 ,  24.001, 157.574],\n",
       "       [  3.14 ,  24.112, 208.106],\n",
       "       [  3.16 ,  25.026, 237.597],\n",
       "       [  3.18 ,  21.077, 246.723],\n",
       "       [  3.2  ,  15.644, 240.016],\n",
       "       [  3.22 ,  11.607, 213.545],\n",
       "       [  3.24 ,  11.909, 172.718],\n",
       "       [  3.26 ,  16.018, 143.51 ],\n",
       "       [  3.28 ,  21.33 , 126.374],\n",
       "       [  3.3  ,  25.918, 115.667],\n",
       "       [  3.32 ,  29.695, 108.097],\n",
       "       [  3.34 ,  32.66 , 102.81 ],\n",
       "       [  3.36 ,  35.025,  99.362],\n",
       "       [  3.38 ,  36.813,  97.318],\n",
       "       [  3.4  ,  38.275,  96.794],\n",
       "       [  3.41 ,  39.389,  97.694],\n",
       "       [  3.44 ,  40.353, 100.15 ],\n",
       "       [  3.46 ,  40.949, 104.384],\n",
       "       [  3.48 ,  40.645, 110.459],\n",
       "       [  3.5  ,  38.51 , 118.35 ],\n",
       "       [  3.52 ,  33.996, 127.175],\n",
       "       [  3.54 ,  27.006, 133.667],\n",
       "       [  3.56 ,  19.786, 130.481],\n",
       "       [  3.58 ,  17.545, 116.664],\n",
       "       [  3.6  ,  19.558, 115.41 ],\n",
       "       [  3.62 ,  20.517, 127.721],\n",
       "       [  3.63 ,  19.972, 146.534],\n",
       "       [  3.66 ,  19.137, 168.374],\n",
       "       [  3.68 ,  19.041, 191.819],\n",
       "       [  3.7  ,  20.097, 214.146],\n",
       "       [  3.72 ,  22.202, 233.207],\n",
       "       [  3.73 ,  24.94 , 248.897],\n",
       "       [  3.76 ,  27.814, 261.612],\n",
       "       [  3.78 ,  30.543, 272.256],\n",
       "       [  3.8  ,  32.903, 282.194],\n",
       "       [  3.81 ,  34.586, 290.951],\n",
       "       [  3.84 ,  35.62 , 298.98 ],\n",
       "       [  3.86 ,  35.913, 305.764],\n",
       "       [  3.87 ,  35.427, 311.026],\n",
       "       [  3.9  ,  34.297, 314.405],\n",
       "       [  3.92 ,  33.095, 316.114],\n",
       "       [  3.93 ,  31.968, 316.204],\n",
       "       [  3.96 ,  30.883, 314.813],\n",
       "       [  3.97 ,  30.206, 312.551],\n",
       "       [  4.   ,  29.942, 309.507],\n",
       "       [  4.02 ,  29.967, 306.014],\n",
       "       [  4.04 ,  30.458, 302.787],\n",
       "       [  4.06 ,  31.142, 299.622],\n",
       "       [  4.08 ,  31.977, 296.764],\n",
       "       [  4.1  ,  33.034, 294.602],\n",
       "       [  4.12 ,  34.25 , 292.79 ],\n",
       "       [  4.15 ,  35.253, 291.105],\n",
       "       [  4.16 ,  36.295, 289.855],\n",
       "       [  4.17 ,  37.343, 288.577],\n",
       "       [  4.2  ,  38.328, 287.632],\n",
       "       [  4.22 ,  39.273, 286.798],\n",
       "       [  4.24 ,  40.024, 286.106],\n",
       "       [  4.26 ,  40.452, 285.407],\n",
       "       [  4.27 ,  41.886, 284.9  ],\n",
       "       [  4.3  ,  41.789, 284.137],\n",
       "       [  4.32 ,  41.643, 283.835],\n",
       "       [  4.33 ,  41.324, 283.515],\n",
       "       [  4.36 ,  40.774, 283.013],\n",
       "       [  4.38 ,  40.11 , 282.621],\n",
       "       [  4.4  ,  39.453, 282.026],\n",
       "       [  4.41 ,  38.842, 281.761],\n",
       "       [  4.44 ,  38.156, 281.44 ],\n",
       "       [  4.46 ,  37.376, 280.982],\n",
       "       [  4.47 ,  36.629, 280.688],\n",
       "       [  4.49 ,  35.88 , 280.299],\n",
       "       [  4.52 ,  35.423, 279.93 ],\n",
       "       [  4.54 ,  34.709, 279.534],\n",
       "       [  4.56 ,  34.05 , 279.258],\n",
       "       [  4.57 ,  33.481, 278.76 ],\n",
       "       [  4.59 ,  32.709, 278.408],\n",
       "       [  4.62 ,  32.153, 277.839],\n",
       "       [  4.64 ,  31.525, 277.295],\n",
       "       [  4.66 ,  30.917, 277.187],\n",
       "       [  4.68 ,  30.361, 276.567],\n",
       "       [  4.69 ,  29.805, 276.101],\n",
       "       [  4.71 ,  29.099, 275.718],\n",
       "       [  4.73 ,  28.587, 275.582],\n",
       "       [  4.77 ,  27.999, 274.834]])"
      ]
     },
     "execution_count": 6,
     "metadata": {},
     "output_type": "execute_result"
    }
   ],
   "source": [
    "datosBS"
   ]
  },
  {
   "cell_type": "markdown",
   "metadata": {},
   "source": [
    "# fiteo a longitud de onda"
   ]
  },
  {
   "cell_type": "code",
   "execution_count": 137,
   "metadata": {},
   "outputs": [],
   "source": [
    "en=datosBS[:100,0]\n",
    "ps=datosBS[:100,1]\n",
    "delt=datosBS[:100,2]\n",
    "dl=0.1\n",
    "lam=np.arange(700,901,dl)"
   ]
  },
  {
   "cell_type": "markdown",
   "metadata": {},
   "source": [
    "#  algoritmo "
   ]
  },
  {
   "cell_type": "code",
   "execution_count": 141,
   "metadata": {},
   "outputs": [
    {
     "data": {
      "text/plain": [
       "[<matplotlib.lines.Line2D at 0x7f25e7390e50>]"
      ]
     },
     "execution_count": 141,
     "metadata": {},
     "output_type": "execute_result"
    },
    {
     "data": {
      "image/png": "[encoded data removed]",
      "text/plain": [
       "<Figure size 432x288 with 1 Axes>"
      ]
     },
     "metadata": {
      "needs_background": "light"
     },
     "output_type": "display_data"
    }
   ],
   "source": [
    "de=0.02\n",
    "\n",
    "hc=1239.4\n",
    "\n",
    "def b4(x,dx):\n",
    "    b= (15120.-10080.*(x**2)/(dx**2)+1512.*(x**4)/(dx**4)-72.*(x**6)/(dx**6)+(x**8)/(dx**8))*np.e**(((-x**2)/(4.*dx**2)))\n",
    "    #print (np.e**(-(x**2)/(4*dx**2)))\n",
    "    return b\n",
    "\n",
    "def fit(datAR,datN):\n",
    "    for j in range(0,lam.size-1,1):\n",
    "        suma=0\n",
    "        for i in range(0,en.size-1,1):\n",
    "            x1=lam[j]-(hc/en[i])\n",
    "            b2=b4(x1,dl)\n",
    "            suma=suma+(datAR[i]*b2*(1/(en[i]**2)))\n",
    "        datN[j]= (hc/(12288*dl*np.sqrt(np.pi)))*de*suma\n",
    "\n",
    "ndel=np.zeros(lam.size)\n",
    "npsi=np.zeros(lam.size)\n",
    "\n",
    "#fit(delt,ndel)\n",
    "fit(ps,npsi)\n",
    "                       \n",
    "plt.plot(lam,npsi)          "
   ]
  },
  {
   "cell_type": "code",
   "execution_count": 63,
   "metadata": {},
   "outputs": [
    {
     "data": {
      "text/plain": [
       "1.3873080356553528e+42"
      ]
     },
     "execution_count": 63,
     "metadata": {},
     "output_type": "execute_result"
    }
   ],
   "source": [
    "\n"
   ]
  },
  {
   "cell_type": "code",
   "execution_count": 126,
   "metadata": {},
   "outputs": [
    {
     "data": {
      "text/plain": [
       "[<matplotlib.lines.Line2D at 0x7f25e7881d00>]"
      ]
     },
     "execution_count": 126,
     "metadata": {},
     "output_type": "execute_result"
    },
    {
     "data": {
      "image/png": "[encoded data removed]",
      "text/plain": [
       "<Figure size 432x288 with 1 Axes>"
      ]
     },
     "metadata": {
      "needs_background": "light"
     },
     "output_type": "display_data"
    }
   ],
   "source": [
    "plt.plot(lam,npsi)"
   ]
  },
  {
   "cell_type": "code",
   "execution_count": null,
   "metadata": {},
   "outputs": [],
   "source": []
  }
 ],
 "metadata": {
  "kernelspec": {
   "display_name": "Python 3",
   "language": "python",
   "name": "python3"
  },
  "language_info": {
   "codemirror_mode": {
    "name": "ipython",
    "version": 3
   },
   "file_extension": ".py",
   "mimetype": "text/x-python",
   "name": "python",
   "nbconvert_exporter": "python",
   "pygments_lexer": "ipython3",
   "version": "3.8.5"
  }
 },
 "nbformat": 4,
 "nbformat_minor": 4
}
